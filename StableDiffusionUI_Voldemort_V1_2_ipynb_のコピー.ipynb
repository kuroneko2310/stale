{
  "nbformat": 4,
  "nbformat_minor": 0,
  "metadata": {
    "colab": {
      "provenance": [],
      "collapsed_sections": [],
      "include_colab_link": true
    },
    "kernelspec": {
      "name": "python3",
      "display_name": "Python 3"
    },
    "language_info": {
      "name": "python"
    },
    "accelerator": "GPU",
    "gpuClass": "standard"
  },
  "cells": [
    {
      "cell_type": "markdown",
      "metadata": {
        "id": "view-in-github",
        "colab_type": "text"
      },
      "source": [
        "<a href=\"https://colab.research.google.com/github/kuroneko2310/stale/blob/main/StableDiffusionUI_Voldemort_V1_2_ipynb_%E3%81%AE%E3%82%B3%E3%83%94%E3%83%BC.ipynb\" target=\"_parent\"><img src=\"https://colab.research.google.com/assets/colab-badge.svg\" alt=\"Open In Colab\"/></a>"
      ]
    },
    {
      "cell_type": "markdown",
      "source": [
        "Adapted from: https://colab.research.google.com/drive/1AfAmwLMd_Vx33O9IwY2TmO9wKZ8ABRRa"
      ],
      "metadata": {
        "id": "gfKvWAVnz8OB"
      }
    },
    {
      "cell_type": "code",
      "source": [
        "import os\n",
        "os.kill(os.getpid(), 9) # This will crash Colab (required, everything will still be intact so dont worry)"
      ],
      "metadata": {
        "id": "p8FI40sFj9tU"
      },
      "execution_count": null,
      "outputs": []
    },
    {
      "cell_type": "code",
      "source": [
        "from google.colab import drive\n",
        "drive.mount('/content/drive')"
      ],
      "metadata": {
        "id": "rCQ3AIX58zcR",
        "colab": {
          "base_uri": "https://localhost:8080/"
        },
        "outputId": "535b6df9-c51d-4933-9398-6972a6c58911"
      },
      "execution_count": 2,
      "outputs": [
        {
          "output_type": "stream",
          "name": "stdout",
          "text": [
            "Mounted at /content/drive\n"
          ]
        }
      ]
    },
    {
      "cell_type": "markdown",
      "source": [
        "Clone webui repository"
      ],
      "metadata": {
        "id": "OHCtG9MT0jLq"
      }
    },
    {
      "cell_type": "code",
      "source": [
        "!git clone https://github.com/AUTOMATIC1111/stable-diffusion-webui\n",
        "%cd stable-diffusion-webui"
      ],
      "metadata": {
        "id": "sBbcB4vwj_jm",
        "colab": {
          "base_uri": "https://localhost:8080/"
        },
        "outputId": "abf67a12-b7b8-4cce-9fa8-bdeff85bc406"
      },
      "execution_count": 3,
      "outputs": [
        {
          "output_type": "stream",
          "name": "stdout",
          "text": [
            "Cloning into 'stable-diffusion-webui'...\n",
            "remote: Enumerating objects: 6064, done.\u001b[K\n",
            "remote: Counting objects: 100% (11/11), done.\u001b[K\n",
            "remote: Compressing objects: 100% (8/8), done.\u001b[K\n",
            "remote: Total 6064 (delta 3), reused 4 (delta 3), pack-reused 6053\u001b[K\n",
            "Receiving objects: 100% (6064/6064), 21.50 MiB | 33.98 MiB/s, done.\n",
            "Resolving deltas: 100% (4258/4258), done.\n",
            "/content/stable-diffusion-webui\n"
          ]
        }
      ]
    },
    {
      "cell_type": "markdown",
      "source": [
        "Download the model from huggingface. See link at the start for different ways."
      ],
      "metadata": {
        "id": "F0EINk5M0s-w"
      }
    },
    {
      "cell_type": "code",
      "source": [
        "#@title Normal 1.4 model\n",
        "#get a token from https://huggingface.co/settings/tokens\n",
        "user_token = \"\" #@param {type:\"string\"}\n",
        "user_header = f\"\\\"Authorization: Bearer {user_token}\\\"\"\n",
        "!wget --header={user_header} https://huggingface.co/CompVis/stable-diffusion-v-1-4-original/resolve/main/sd-v1-4.ckpt -O /content/stable-diffusion-webui/model.ckpt"
      ],
      "metadata": {
        "id": "CT_J9L7oqLxG",
        "colab": {
          "base_uri": "https://localhost:8080/"
        },
        "outputId": "35c2a15c-6f86-417b-bb4d-981526a63301"
      },
      "execution_count": 4,
      "outputs": [
        {
          "output_type": "stream",
          "name": "stdout",
          "text": [
            "--2022-10-14 03:30:51--  https://huggingface.co/CompVis/stable-diffusion-v-1-4-original/resolve/main/sd-v1-4.ckpt\n",
            "Resolving huggingface.co (huggingface.co)... 54.210.225.113, 52.5.54.249, 54.173.5.192, ...\n",
            "Connecting to huggingface.co (huggingface.co)|54.210.225.113|:443... connected.\n",
            "HTTP request sent, awaiting response... 302 Found\n",
            "Location: https://cdn-lfs.huggingface.co/repos/4c/37/4c372b4ebb57bbd02e68413d4951aa326d4b3cfb6e62db989e529c6d4b26fb21/fe4efff1e174c627256e44ec2991ba279b3816e364b49f9be2abc0b3ff3f8556?response-content-disposition=attachment%3B%20filename%3D%22sd-v1-4.ckpt%22&Expires=1665976590&Policy=eyJTdGF0ZW1lbnQiOlt7IlJlc291cmNlIjoiaHR0cHM6Ly9jZG4tbGZzLmh1Z2dpbmdmYWNlLmNvL3JlcG9zLzRjLzM3LzRjMzcyYjRlYmI1N2JiZDAyZTY4NDEzZDQ5NTFhYTMyNmQ0YjNjZmI2ZTYyZGI5ODllNTI5YzZkNGIyNmZiMjEvZmU0ZWZmZjFlMTc0YzYyNzI1NmU0NGVjMjk5MWJhMjc5YjM4MTZlMzY0YjQ5ZjliZTJhYmMwYjNmZjNmODU1Nj9yZXNwb25zZS1jb250ZW50LWRpc3Bvc2l0aW9uPWF0dGFjaG1lbnQlM0IlMjBmaWxlbmFtZSUzRCUyMnNkLXYxLTQuY2twdCUyMiIsIkNvbmRpdGlvbiI6eyJEYXRlTGVzc1RoYW4iOnsiQVdTOkVwb2NoVGltZSI6MTY2NTk3NjU5MH19fV19&Signature=aMJKO4hkzJB9v0NBms4v4fY~VfTtLoumkcTCYxxd2DDQ~7WELKreumXHLlaS2u5C2rMKZLBeCqrc3vv4BwpGMy-LAoPOKWZcuHbOsriyVnKfcyLh9dKzCRUXJnCtEWRZQV-N7-BsFuE05UHjkMPjpjLdJ-cOsL13BvypfiJTCRmf9oeWXjr4Ks6eBI-R86vTaJTpLMfLBfJrdMz1qcWeApGNMbD8Q5K3~raNMxiPJlJMIoWA-b4qWqLrSuLat9w2A7kNaOfkHZ6-AsFDM9apYdT8nvG1pcQZ1--sfQTese~n74PvhY0onVgN4d59F7TxK45dvceoSoZ3EnMsblGBDw__&Key-Pair-Id=KVTP0A1DKRTAX [following]\n",
            "--2022-10-14 03:30:51--  https://cdn-lfs.huggingface.co/repos/4c/37/4c372b4ebb57bbd02e68413d4951aa326d4b3cfb6e62db989e529c6d4b26fb21/fe4efff1e174c627256e44ec2991ba279b3816e364b49f9be2abc0b3ff3f8556?response-content-disposition=attachment%3B%20filename%3D%22sd-v1-4.ckpt%22&Expires=1665976590&Policy=eyJTdGF0ZW1lbnQiOlt7IlJlc291cmNlIjoiaHR0cHM6Ly9jZG4tbGZzLmh1Z2dpbmdmYWNlLmNvL3JlcG9zLzRjLzM3LzRjMzcyYjRlYmI1N2JiZDAyZTY4NDEzZDQ5NTFhYTMyNmQ0YjNjZmI2ZTYyZGI5ODllNTI5YzZkNGIyNmZiMjEvZmU0ZWZmZjFlMTc0YzYyNzI1NmU0NGVjMjk5MWJhMjc5YjM4MTZlMzY0YjQ5ZjliZTJhYmMwYjNmZjNmODU1Nj9yZXNwb25zZS1jb250ZW50LWRpc3Bvc2l0aW9uPWF0dGFjaG1lbnQlM0IlMjBmaWxlbmFtZSUzRCUyMnNkLXYxLTQuY2twdCUyMiIsIkNvbmRpdGlvbiI6eyJEYXRlTGVzc1RoYW4iOnsiQVdTOkVwb2NoVGltZSI6MTY2NTk3NjU5MH19fV19&Signature=aMJKO4hkzJB9v0NBms4v4fY~VfTtLoumkcTCYxxd2DDQ~7WELKreumXHLlaS2u5C2rMKZLBeCqrc3vv4BwpGMy-LAoPOKWZcuHbOsriyVnKfcyLh9dKzCRUXJnCtEWRZQV-N7-BsFuE05UHjkMPjpjLdJ-cOsL13BvypfiJTCRmf9oeWXjr4Ks6eBI-R86vTaJTpLMfLBfJrdMz1qcWeApGNMbD8Q5K3~raNMxiPJlJMIoWA-b4qWqLrSuLat9w2A7kNaOfkHZ6-AsFDM9apYdT8nvG1pcQZ1--sfQTese~n74PvhY0onVgN4d59F7TxK45dvceoSoZ3EnMsblGBDw__&Key-Pair-Id=KVTP0A1DKRTAX\n",
            "Resolving cdn-lfs.huggingface.co (cdn-lfs.huggingface.co)... 13.226.22.74, 13.226.22.119, 13.226.22.56, ...\n",
            "Connecting to cdn-lfs.huggingface.co (cdn-lfs.huggingface.co)|13.226.22.74|:443... connected.\n",
            "HTTP request sent, awaiting response... 200 OK\n",
            "Length: 4265380512 (4.0G) [binary/octet-stream]\n",
            "Saving to: ‘/content/stable-diffusion-webui/model.ckpt’\n",
            "\n",
            "/content/stable-dif 100%[===================>]   3.97G  76.2MB/s    in 53s     \n",
            "\n",
            "2022-10-14 03:31:44 (77.5 MB/s) - ‘/content/stable-diffusion-webui/model.ckpt’ saved [4265380512/4265380512]\n",
            "\n"
          ]
        }
      ]
    },
    {
      "cell_type": "markdown",
      "source": [
        "Voldy doesn't explian what this does but it appears to replace the prior dependencies section, saving a few lines lmao "
      ],
      "metadata": {
        "id": "v2kY0Z05DwIN"
      }
    },
    {
      "cell_type": "code",
      "source": [
        "import os\n",
        "import shutil"
      ],
      "metadata": {
        "id": "jrnrpowXBRf4"
      },
      "execution_count": 20,
      "outputs": []
    },
    {
      "cell_type": "code",
      "source": [
        "import os\n",
        "import shutil\n",
        "%cd /content/drive/MyDrive/AI/models\n",
        "#shutil.copy(\"/content/drive/MyDrive/AI/models/sd-v1-4.ckpt\", \"/content/stable-diffusion-webui/models/Stable-diffusion/sd-v1-4.ckpt\")\n",
        "#shutil.copy(\"/content/drive/MyDrive/AI/models/sd-v1-4.ckpt\", \"/content/stable-diffusion-webui/models/Stable-diffusion/model.ckpt\")\n",
        "#shutil.copy(\"/content/drive/MyDrive/AI/models/wd-v1-3-full.ckpt\", \"/content/stable-diffusion-webui/models/Stable-diffusion/wd-v1-3-full.ckpt\")\n",
        "shutil.copy(\"/content/drive/MyDrive/AI/models/RD1412.ckpt\",\"/content/stable-diffusion-webui/models/Stable-diffusion/RD1412.ckpt\")"
      ],
      "metadata": {
        "id": "IBxlbkDEeSoj",
        "colab": {
          "base_uri": "https://localhost:8080/",
          "height": 52
        },
        "outputId": "a6d6d8c1-f089-4efc-b703-dda4151cc569"
      },
      "execution_count": 8,
      "outputs": [
        {
          "output_type": "stream",
          "name": "stdout",
          "text": [
            "/content/drive/MyDrive/AI/models\n"
          ]
        },
        {
          "output_type": "execute_result",
          "data": {
            "text/plain": [
              "'/content/stable-diffusion-webui/models/Stable-diffusion/RD1412.ckpt'"
            ],
            "application/vnd.google.colaboratory.intrinsic+json": {
              "type": "string"
            }
          },
          "metadata": {},
          "execution_count": 8
        }
      ]
    },
    {
      "cell_type": "code",
      "source": [
        "shutil.copy(\"/content/drive/MyDrive/AI/ckpt/last-pruned.ckpt\", \"/content/stable-diffusion-webui/models/Stable-diffusion/last-pruned.ckpt\")"
      ],
      "metadata": {
        "colab": {
          "base_uri": "https://localhost:8080/",
          "height": 35
        },
        "id": "UL6HKbt--8j4",
        "outputId": "e0caee21-fe67-41b1-a21f-3e2aa4e788d6"
      },
      "execution_count": 9,
      "outputs": [
        {
          "output_type": "execute_result",
          "data": {
            "text/plain": [
              "'/content/stable-diffusion-webui/models/Stable-diffusion/last-pruned.ckpt'"
            ],
            "application/vnd.google.colaboratory.intrinsic+json": {
              "type": "string"
            }
          },
          "metadata": {},
          "execution_count": 9
        }
      ]
    },
    {
      "cell_type": "code",
      "source": [],
      "metadata": {
        "id": "7vnQZLjStq3_"
      },
      "execution_count": null,
      "outputs": []
    },
    {
      "cell_type": "code",
      "source": [
        "%cd /content/stable-diffusion-webui/models/Stable-diffusion\n",
        "!wget  https://huggingface.co/Deltaadams/Hentai-Diffusion/resolve/1842fc94f1dc3250f6a3d9727e649059414b2560/RD1412.ckpt"
      ],
      "metadata": {
        "id": "M5ilWAUlkryE"
      },
      "execution_count": null,
      "outputs": []
    },
    {
      "cell_type": "code",
      "source": [
        "shutil.copy(\"/content/drive/MyDrive/AI/models/RD1412.ckpt\",\"/content/stable-diffusion-webui/models/Stable-diffusion/RD1412.ckpt\")"
      ],
      "metadata": {
        "id": "wkKRg3losGR4"
      },
      "execution_count": null,
      "outputs": []
    },
    {
      "cell_type": "code",
      "source": [
        "%cd /content/drive/MyDrive/AI/scripts\n",
        "shutil.copy(\"/content/drive/MyDrive/AI/scripts/Stable-diffusion-webui-video-main/videos.py\", \"/content/stable-diffusion-webui/scripts\")\n",
        "shutil.copy(\"/content/drive/MyDrive/AI/scripts/StableDiffusionStuff-main/loopback_superimpose.py\", \"/content/stable-diffusion-webui/scripts\")\n",
        "shutil.copy(\"/content/drive/MyDrive/AI/scripts/shift-attention-main/scripts/shift_attention.py\", \"/content/stable-diffusion-webui/scripts\")\n",
        "#shutil.copy(\"/content/drive/MyDrive/AI/scripts/requirements.txt\", \"/content/stable-diffusion-webui/\")\n"
      ],
      "metadata": {
        "id": "0HnPIkEck8nj"
      },
      "execution_count": null,
      "outputs": []
    },
    {
      "cell_type": "code",
      "source": [
        "%cd /content/stable-diffusion-webui\n",
        "shutil.copytree(\"/content/drive/MyDrive/AI/AgeR-out\",\"/content/stable-diffusion-webui/AgeR-out\")"
      ],
      "metadata": {
        "colab": {
          "base_uri": "https://localhost:8080/",
          "height": 52
        },
        "id": "s5lDdNMdA-r1",
        "outputId": "babaf93e-95c7-4354-aee3-b407db6ff2f0"
      },
      "execution_count": 27,
      "outputs": [
        {
          "output_type": "stream",
          "name": "stdout",
          "text": [
            "/content/stable-diffusion-webui\n"
          ]
        },
        {
          "output_type": "execute_result",
          "data": {
            "text/plain": [
              "'/content/stable-diffusion-webui/AgeR-out'"
            ],
            "application/vnd.google.colaboratory.intrinsic+json": {
              "type": "string"
            }
          },
          "metadata": {},
          "execution_count": 27
        }
      ]
    },
    {
      "cell_type": "code",
      "source": [
        "%cd /content/stable-diffusion-webui\n",
        "!COMMANDLINE_ARGS=\"--exit\" REQS_FILE=\"requirements.txt\" python launch.py"
      ],
      "metadata": {
        "id": "IB19TzabDtYF",
        "colab": {
          "base_uri": "https://localhost:8080/"
        },
        "outputId": "4e372f73-f29c-40da-f96e-79e72c48065f"
      },
      "execution_count": 11,
      "outputs": [
        {
          "output_type": "stream",
          "name": "stdout",
          "text": [
            "/content/stable-diffusion-webui\n",
            "Python 3.7.14 (default, Sep  8 2022, 00:06:44) \n",
            "[GCC 7.5.0]\n",
            "Commit hash: 08b3f7aef15f74f4d2254b1274dd66fcc7940348\n",
            "Installing gfpgan\n",
            "Installing clip\n",
            "Cloning Stable Diffusion into repositories/stable-diffusion...\n",
            "Cloning Taming Transformers into repositories/taming-transformers...\n",
            "Cloning K-diffusion into repositories/k-diffusion...\n",
            "Cloning CodeFormer into repositories/CodeFormer...\n",
            "Cloning BLIP into repositories/BLIP...\n",
            "Installing requirements for CodeFormer\n",
            "Installing requirements for Web UI\n",
            "Exiting because of --exit argument\n"
          ]
        }
      ]
    },
    {
      "cell_type": "markdown",
      "source": [
        "Change into Web UI directory and download updates"
      ],
      "metadata": {
        "id": "S8nvm5f6AfaL"
      }
    },
    {
      "cell_type": "code",
      "source": [
        "%cd /content/stable-diffusion-webui\n",
        "!git pull"
      ],
      "metadata": {
        "id": "I1j4j2NfAQye",
        "colab": {
          "base_uri": "https://localhost:8080/"
        },
        "outputId": "918dbec1-e47a-4532-cd13-2e30702d83e8"
      },
      "execution_count": 3,
      "outputs": [
        {
          "output_type": "stream",
          "name": "stdout",
          "text": [
            "/content/stable-diffusion-webui\n",
            "Already up to date.\n"
          ]
        }
      ]
    },
    {
      "cell_type": "markdown",
      "source": [
        "Launch web ui. You will get a link to nnn.gradio.app, follow it.\n",
        "\n",
        "Commandline arguments are:\n",
        "  - `--share` - create online gradio.app link\n",
        "  - `--gradio-debug` - print outputs to console\n",
        "  - `--gradio-auth me:qwerty` - add authentication to gradio: username me, password qwerty"
      ],
      "metadata": {
        "id": "xt8lbdmC04ox"
      }
    },
    {
      "cell_type": "code",
      "source": [
        "%cd /content/stable-diffusion-webui\n",
        "!COMMANDLINE_ARGS=\"--share --gradio-debug\" REQS_FILE=\"requirements.txt\" python launch.py"
      ],
      "metadata": {
        "id": "R-xAdMA5wxXd",
        "colab": {
          "base_uri": "https://localhost:8080/"
        },
        "outputId": "5f057cf8-46fb-48b5-f641-b212c09d9f98"
      },
      "execution_count": 1,
      "outputs": [
        {
          "output_type": "stream",
          "name": "stdout",
          "text": [
            "[Errno 2] No such file or directory: '/content/stable-diffusion-webui'\n",
            "/content\n",
            "python3: can't open file 'launch.py': [Errno 2] No such file or directory\n"
          ]
        }
      ]
    },
    {
      "cell_type": "markdown",
      "source": [
        "commands for ***after*** you have gotten done with a session\n",
        "============================================================================"
      ],
      "metadata": {
        "id": "9qrpRUJpno7L"
      }
    },
    {
      "cell_type": "markdown",
      "source": [
        "Zip images for downloading on local drive (click the folder icon on the left, the one below {x})"
      ],
      "metadata": {
        "id": "zB-L8JpElKp-"
      }
    },
    {
      "cell_type": "code",
      "source": [
        "#!zip -r /content/drive/MyDrive/AI/AgeR-out /content/drive/MyDrive/AI"
      ],
      "metadata": {
        "id": "aSL_DrfM35Wn"
      },
      "execution_count": null,
      "outputs": []
    },
    {
      "cell_type": "code",
      "source": [
        "!zip -r /content/stable-diffusion-webui /content/stable-diffusion-webui/outputs "
      ],
      "metadata": {
        "id": "gBt5g_Dn0NFo",
        "colab": {
          "base_uri": "https://localhost:8080/"
        },
        "outputId": "64f9ac1d-43fd-40d6-ed6d-57ee5a629bfe"
      },
      "execution_count": 14,
      "outputs": [
        {
          "output_type": "stream",
          "name": "stdout",
          "text": [
            "\tzip warning: name not matched: /content/stable-diffusion-webui/outputs\n",
            "\n",
            "zip error: Nothing to do! (try: zip -r /content/stable-diffusion-webui . -i /content/stable-diffusion-webui/outputs)\n"
          ]
        }
      ]
    },
    {
      "cell_type": "code",
      "source": [
        "shutil.move(\"/content/stable-diffusion-webui.zip\",\"/content/drive/MyDrive/download\")"
      ],
      "metadata": {
        "id": "5zFv4fzqJmOK",
        "colab": {
          "base_uri": "https://localhost:8080/",
          "height": 287
        },
        "outputId": "4862f0f0-2217-4f5e-adc7-9c45e9385570"
      },
      "execution_count": 15,
      "outputs": [
        {
          "output_type": "error",
          "ename": "Error",
          "evalue": "ignored",
          "traceback": [
            "\u001b[0;31m---------------------------------------------------------------------------\u001b[0m",
            "\u001b[0;31mError\u001b[0m                                     Traceback (most recent call last)",
            "\u001b[0;32m<ipython-input-15-4f80a0ddbd72>\u001b[0m in \u001b[0;36m<module>\u001b[0;34m\u001b[0m\n\u001b[0;32m----> 1\u001b[0;31m \u001b[0mshutil\u001b[0m\u001b[0;34m.\u001b[0m\u001b[0mmove\u001b[0m\u001b[0;34m(\u001b[0m\u001b[0;34m\"/content/stable-diffusion-webui.zip\"\u001b[0m\u001b[0;34m,\u001b[0m\u001b[0;34m\"/content/drive/MyDrive/download\"\u001b[0m\u001b[0;34m)\u001b[0m\u001b[0;34m\u001b[0m\u001b[0;34m\u001b[0m\u001b[0m\n\u001b[0m",
            "\u001b[0;32m/usr/lib/python3.7/shutil.py\u001b[0m in \u001b[0;36mmove\u001b[0;34m(src, dst, copy_function)\u001b[0m\n\u001b[1;32m    562\u001b[0m         \u001b[0mreal_dst\u001b[0m \u001b[0;34m=\u001b[0m \u001b[0mos\u001b[0m\u001b[0;34m.\u001b[0m\u001b[0mpath\u001b[0m\u001b[0;34m.\u001b[0m\u001b[0mjoin\u001b[0m\u001b[0;34m(\u001b[0m\u001b[0mdst\u001b[0m\u001b[0;34m,\u001b[0m \u001b[0m_basename\u001b[0m\u001b[0;34m(\u001b[0m\u001b[0msrc\u001b[0m\u001b[0;34m)\u001b[0m\u001b[0;34m)\u001b[0m\u001b[0;34m\u001b[0m\u001b[0;34m\u001b[0m\u001b[0m\n\u001b[1;32m    563\u001b[0m         \u001b[0;32mif\u001b[0m \u001b[0mos\u001b[0m\u001b[0;34m.\u001b[0m\u001b[0mpath\u001b[0m\u001b[0;34m.\u001b[0m\u001b[0mexists\u001b[0m\u001b[0;34m(\u001b[0m\u001b[0mreal_dst\u001b[0m\u001b[0;34m)\u001b[0m\u001b[0;34m:\u001b[0m\u001b[0;34m\u001b[0m\u001b[0;34m\u001b[0m\u001b[0m\n\u001b[0;32m--> 564\u001b[0;31m             \u001b[0;32mraise\u001b[0m \u001b[0mError\u001b[0m\u001b[0;34m(\u001b[0m\u001b[0;34m\"Destination path '%s' already exists\"\u001b[0m \u001b[0;34m%\u001b[0m \u001b[0mreal_dst\u001b[0m\u001b[0;34m)\u001b[0m\u001b[0;34m\u001b[0m\u001b[0;34m\u001b[0m\u001b[0m\n\u001b[0m\u001b[1;32m    565\u001b[0m     \u001b[0;32mtry\u001b[0m\u001b[0;34m:\u001b[0m\u001b[0;34m\u001b[0m\u001b[0;34m\u001b[0m\u001b[0m\n\u001b[1;32m    566\u001b[0m         \u001b[0mos\u001b[0m\u001b[0;34m.\u001b[0m\u001b[0mrename\u001b[0m\u001b[0;34m(\u001b[0m\u001b[0msrc\u001b[0m\u001b[0;34m,\u001b[0m \u001b[0mreal_dst\u001b[0m\u001b[0;34m)\u001b[0m\u001b[0;34m\u001b[0m\u001b[0;34m\u001b[0m\u001b[0m\n",
            "\u001b[0;31mError\u001b[0m: Destination path '/content/drive/MyDrive/download/stable-diffusion-webui.zip' already exists"
          ]
        }
      ]
    },
    {
      "cell_type": "markdown",
      "source": [
        "Save images to Google Drive **Warning: this will cause google to scan your drive, so if you intend to use this and worry about that kind of stuff, probablly just set this up on a clean account that's just for this colab**"
      ],
      "metadata": {
        "id": "odNn2KF5lFmb"
      }
    },
    {
      "cell_type": "code",
      "source": [
        "from google.colab import drive # type: ignore\n",
        "\n",
        "try:\n",
        "   drive_path = \"/content/drive\"\n",
        "   drive.mount(drive_path,force_remount=False)\n",
        "except:\n",
        "   print(\"...error mounting drive or with drive path variables\")\n",
        "\n",
        "!cp -r \"/content/stable-diffusion-webui/outputs\" \"/content/drive/MyDrive\""
      ],
      "metadata": {
        "id": "zNEgJfbhDwI6"
      },
      "execution_count": null,
      "outputs": []
    }
  ]
}